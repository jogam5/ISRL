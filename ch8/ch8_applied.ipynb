{
 "cells": [
  {
   "cell_type": "markdown",
   "id": "cb76df7f-26ce-466e-a7df-f988ae64f3bd",
   "metadata": {},
   "source": [
    "# Tree-Based Methods"
   ]
  },
  {
   "cell_type": "markdown",
   "id": "20aac151-4c69-40d8-a287-c97d181e235b",
   "metadata": {},
   "source": [
    "## Applied"
   ]
  },
  {
   "cell_type": "markdown",
   "id": "891d09ba-2605-4e44-bd11-bcdebbb2a831",
   "metadata": {},
   "source": [
    "#### 7. Create a plot displaying the test error resulting from random forests on this data set."
   ]
  },
  {
   "cell_type": "code",
   "execution_count": 2,
   "id": "e8d12088-9956-4a75-be0c-d0d71c13b716",
   "metadata": {},
   "outputs": [],
   "source": [
    "import numpy as np\n",
    "import pandas as pd\n",
    "from sklearn.ensemble import RandomForestRegressor\n",
    "from sklearn.model_selection import train_test_split\n",
    "from sklearn.metrics import mean_squared_error"
   ]
  },
  {
   "cell_type": "code",
   "execution_count": 3,
   "id": "1eec2cd3-9bb5-4144-92ce-ba3c750255bb",
   "metadata": {},
   "outputs": [],
   "source": [
    "boston = pd.read_excel('/Users/gabriel/python/isrl/ch8/boston.xls', sheet_name='boston.csv')"
   ]
  },
  {
   "cell_type": "code",
   "execution_count": 4,
   "id": "751129a1-fab0-4dea-841d-ae06346587dc",
   "metadata": {},
   "outputs": [
    {
     "name": "stdout",
     "output_type": "stream",
     "text": [
      "<class 'pandas.core.frame.DataFrame'>\n",
      "RangeIndex: 506 entries, 0 to 505\n",
      "Data columns (total 14 columns):\n",
      " #   Column  Non-Null Count  Dtype  \n",
      "---  ------  --------------  -----  \n",
      " 0   CRIM    506 non-null    float64\n",
      " 1   ZN      506 non-null    float64\n",
      " 2   INDUS   506 non-null    float64\n",
      " 3   CHAS    506 non-null    int64  \n",
      " 4   NOX     506 non-null    float64\n",
      " 5   RM      506 non-null    float64\n",
      " 6   AGE     506 non-null    float64\n",
      " 7   DIS     506 non-null    float64\n",
      " 8   RAD     506 non-null    int64  \n",
      " 9   TAX     506 non-null    int64  \n",
      " 10  PT      506 non-null    float64\n",
      " 11  B       506 non-null    float64\n",
      " 12  LSTAT   506 non-null    float64\n",
      " 13  MV      506 non-null    float64\n",
      "dtypes: float64(11), int64(3)\n",
      "memory usage: 55.5 KB\n"
     ]
    }
   ],
   "source": [
    "boston.info()"
   ]
  },
  {
   "cell_type": "code",
   "execution_count": 5,
   "id": "3eb98248-0511-45e8-a1ff-adb5443c18b7",
   "metadata": {},
   "outputs": [],
   "source": [
    "x = boston.iloc[:,:13]\n",
    "y = boston.iloc[:,13:]\n",
    "x_train, x_test, y_train, y_test = train_test_split(x, y, test_size=0.1)"
   ]
  },
  {
   "cell_type": "code",
   "execution_count": 6,
   "id": "636a6a90-94d1-4c42-97b8-9a1e9df05b63",
   "metadata": {},
   "outputs": [
    {
     "data": {
      "text/plain": [
       "RandomForestRegressor(max_features=13, n_estimators=25)"
      ]
     },
     "execution_count": 6,
     "metadata": {},
     "output_type": "execute_result"
    }
   ],
   "source": [
    "forest_13 = RandomForestRegressor(n_estimators=25, max_features=13)\n",
    "forest_13.fit(x_train, y_train.values.ravel()) # 'values.ravel()' is the same as reshape(-1): a 1-D array is returned"
   ]
  },
  {
   "cell_type": "code",
   "execution_count": 7,
   "id": "1b3dcae6-8f3c-4278-824f-55a12ddaebe3",
   "metadata": {},
   "outputs": [],
   "source": [
    "y_pred_13 = forest_13.predict(x_test)"
   ]
  },
  {
   "cell_type": "code",
   "execution_count": 8,
   "id": "eb72541b-82fe-47e5-94c6-1276b4626b20",
   "metadata": {},
   "outputs": [
    {
     "data": {
      "text/plain": [
       "9.581789821691956"
      ]
     },
     "execution_count": 8,
     "metadata": {},
     "output_type": "execute_result"
    }
   ],
   "source": [
    "mse = mean_squared_error(y_test, y_pred_13)\n",
    "mse"
   ]
  },
  {
   "cell_type": "code",
   "execution_count": 9,
   "id": "176e6c09-28f9-461f-bec6-83971868ef67",
   "metadata": {},
   "outputs": [
    {
     "data": {
      "text/plain": [
       "RandomForestRegressor(max_features=6, n_estimators=25)"
      ]
     },
     "execution_count": 9,
     "metadata": {},
     "output_type": "execute_result"
    }
   ],
   "source": [
    "forest_6 = RandomForestRegressor(n_estimators=25, max_features=6)\n",
    "forest_6.fit(x_train, y_train.values.ravel())"
   ]
  },
  {
   "cell_type": "code",
   "execution_count": 10,
   "id": "4a09ea36-6599-4804-8165-4a234d8eaa18",
   "metadata": {},
   "outputs": [
    {
     "data": {
      "text/plain": [
       "7.885791214233117"
      ]
     },
     "execution_count": 10,
     "metadata": {},
     "output_type": "execute_result"
    }
   ],
   "source": [
    "y_pred_6 = forest_6.predict(x_test)\n",
    "mse = mean_squared_error(y_test, y_pred_6)\n",
    "mse"
   ]
  },
  {
   "cell_type": "code",
   "execution_count": 11,
   "id": "8b363395-793f-4567-a6c9-102c1b7b5f5f",
   "metadata": {},
   "outputs": [
    {
     "data": {
      "text/plain": [
       "RandomForestRegressor(max_features=2, n_estimators=25)"
      ]
     },
     "execution_count": 11,
     "metadata": {},
     "output_type": "execute_result"
    }
   ],
   "source": [
    "forest_sqr = RandomForestRegressor(n_estimators=25, max_features=2)\n",
    "forest_sqr.fit(x_train, y_train.values.ravel())"
   ]
  },
  {
   "cell_type": "code",
   "execution_count": 12,
   "id": "cf6e8f3e-d1f6-4df0-8d1d-2128b8b47089",
   "metadata": {},
   "outputs": [
    {
     "data": {
      "text/plain": [
       "10.056670373881616"
      ]
     },
     "execution_count": 12,
     "metadata": {},
     "output_type": "execute_result"
    }
   ],
   "source": [
    "y_pred_sqr = forest_sqr.predict(x_test)\n",
    "mse = mean_squared_error(y_test, y_pred_sqr)\n",
    "mse"
   ]
  },
  {
   "cell_type": "code",
   "execution_count": 35,
   "id": "457dcc45-4188-400d-a6c9-388941973f18",
   "metadata": {},
   "outputs": [],
   "source": [
    "from math import sqrt\n",
    "\n",
    "mTry = [int(sqrt(13)), int(13/2), 13]\n",
    "mse = {}\n",
    "for m in mTry:\n",
    "    mse[m] = []\n",
    "    for nTree in range(1,501,5):\n",
    "        forest = RandomForestRegressor(n_estimators=nTree, max_features=m)\n",
    "        forest.fit(x_train, y_train.values.ravel())\n",
    "        y_pred = forest.predict(x_test)\n",
    "        mse[m].append(mean_squared_error(y_test, y_pred))\n",
    "#print(mse)"
   ]
  },
  {
   "cell_type": "code",
   "execution_count": 36,
   "id": "2e909047-de9f-4208-8881-8e62ba3feca7",
   "metadata": {},
   "outputs": [
    {
     "data": {
      "image/png": "[encoded data removed]",
      "text/plain": [
       "<Figure size 432x288 with 1 Axes>"
      ]
     },
     "metadata": {
      "needs_background": "light"
     },
     "output_type": "display_data"
    }
   ],
   "source": [
    "import matplotlib.pyplot as plt\n",
    "#%matplotlib inline\n",
    "x = np.arange(1,501,5)\n",
    "for m in mTry:\n",
    "    listMse = mse[m]\n",
    "    plt.plot(x, listMse, label='m='+str(m))\n",
    "\n",
    "plt.title('Random Forest for Boston dataset')\n",
    "plt.xlabel('Number of Trees')\n",
    "plt.ylabel('Test Error')\n",
    "plt.legend()\n",
    "plt.show()"
   ]
  },
  {
   "cell_type": "markdown",
   "id": "d1ef771a-9459-4ea8-8530-d56ca7f11323",
   "metadata": {},
   "source": [
    "**Note:** \n",
    "\n",
    "m = 3 means m = sqrt(p).\n",
    "\n",
    "m = 6 means m = p/2.\n",
    "\n",
    "m = 13 means m = p."
   ]
  },
  {
   "cell_type": "markdown",
   "id": "00b7dd9e-f1e7-4937-9044-4887983cfadc",
   "metadata": {},
   "source": [
    "The test error for the random forest case (i.e. m = 3) shows a slightly lower value than for the case where m = p/2. This difference is bigger with respect to the case where m = p (i.e. the bagging case). "
   ]
  },
  {
   "cell_type": "code",
   "execution_count": null,
   "id": "9523ea7d-c143-440b-9060-a36ace7bc33c",
   "metadata": {},
   "outputs": [],
   "source": []
  }
 ],
 "metadata": {
  "kernelspec": {
   "display_name": "Python 3 (ipykernel)",
   "language": "python",
   "name": "python3"
  },
  "language_info": {
   "codemirror_mode": {
    "name": "ipython",
    "version": 3
   },
   "file_extension": ".py",
   "mimetype": "text/x-python",
   "name": "python",
   "nbconvert_exporter": "python",
   "pygments_lexer": "ipython3",
   "version": "3.7.7"
  }
 },
 "nbformat": 4,
 "nbformat_minor": 5
}
