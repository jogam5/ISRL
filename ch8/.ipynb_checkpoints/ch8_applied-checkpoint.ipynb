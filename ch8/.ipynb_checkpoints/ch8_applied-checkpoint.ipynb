{
 "cells": [
  {
   "cell_type": "markdown",
   "id": "cb76df7f-26ce-466e-a7df-f988ae64f3bd",
   "metadata": {},
   "source": [
    "# Tree-Based Methods"
   ]
  },
  {
   "cell_type": "markdown",
   "id": "20aac151-4c69-40d8-a287-c97d181e235b",
   "metadata": {},
   "source": [
    "## Applied"
   ]
  },
  {
   "cell_type": "markdown",
   "id": "891d09ba-2605-4e44-bd11-bcdebbb2a831",
   "metadata": {},
   "source": [
    "#### 7. Create a plot displaying the test error resulting from random forests on this data set."
   ]
  },
  {
   "cell_type": "code",
   "execution_count": 24,
   "id": "e8d12088-9956-4a75-be0c-d0d71c13b716",
   "metadata": {},
   "outputs": [],
   "source": [
    "import numpy as np\n",
    "import pandas as pd\n",
    "from sklearn.ensemble import RandomForestRegressor\n",
    "from sklearn.model_selection import train_test_split\n",
    "from sklearn.metrics import mean_squared_error"
   ]
  },
  {
   "cell_type": "code",
   "execution_count": 3,
   "id": "1eec2cd3-9bb5-4144-92ce-ba3c750255bb",
   "metadata": {},
   "outputs": [],
   "source": [
    "boston = pd.read_excel('/Users/gabriel/python/isrl/ch8/boston.xls', sheet_name='boston.csv')"
   ]
  },
  {
   "cell_type": "code",
   "execution_count": 5,
   "id": "751129a1-fab0-4dea-841d-ae06346587dc",
   "metadata": {},
   "outputs": [
    {
     "name": "stdout",
     "output_type": "stream",
     "text": [
      "<class 'pandas.core.frame.DataFrame'>\n",
      "RangeIndex: 506 entries, 0 to 505\n",
      "Data columns (total 14 columns):\n",
      " #   Column  Non-Null Count  Dtype  \n",
      "---  ------  --------------  -----  \n",
      " 0   CRIM    506 non-null    float64\n",
      " 1   ZN      506 non-null    float64\n",
      " 2   INDUS   506 non-null    float64\n",
      " 3   CHAS    506 non-null    int64  \n",
      " 4   NOX     506 non-null    float64\n",
      " 5   RM      506 non-null    float64\n",
      " 6   AGE     506 non-null    float64\n",
      " 7   DIS     506 non-null    float64\n",
      " 8   RAD     506 non-null    int64  \n",
      " 9   TAX     506 non-null    int64  \n",
      " 10  PT      506 non-null    float64\n",
      " 11  B       506 non-null    float64\n",
      " 12  LSTAT   506 non-null    float64\n",
      " 13  MV      506 non-null    float64\n",
      "dtypes: float64(11), int64(3)\n",
      "memory usage: 55.5 KB\n"
     ]
    }
   ],
   "source": [
    "boston.info()"
   ]
  },
  {
   "cell_type": "code",
   "execution_count": 28,
   "id": "3eb98248-0511-45e8-a1ff-adb5443c18b7",
   "metadata": {},
   "outputs": [],
   "source": [
    "x = boston.iloc[:,:13]\n",
    "y = boston.iloc[:,13:]\n",
    "x_train, x_test, y_train, y_test = train_test_split(x, y, test_size=0.5)"
   ]
  },
  {
   "cell_type": "code",
   "execution_count": 29,
   "id": "636a6a90-94d1-4c42-97b8-9a1e9df05b63",
   "metadata": {},
   "outputs": [
    {
     "name": "stdout",
     "output_type": "stream",
     "text": [
      "x_train shape:  (253, 13)\n",
      "y_train shape:  (253, 1)\n"
     ]
    },
    {
     "data": {
      "text/plain": [
       "RandomForestRegressor(max_features=6, n_estimators=25)"
      ]
     },
     "execution_count": 29,
     "metadata": {},
     "output_type": "execute_result"
    }
   ],
   "source": [
    "forest = RandomForestRegressor(n_estimators=25, max_features=6)\n",
    "#print('x_train shape: ', x_train.shape)\n",
    "#print('y_train shape: ', y_train.shape)\n",
    "forest.fit(x_train, y_train.values.ravel()) # 'values.ravel()' is the same as reshape(-1): a 1-D array is returned"
   ]
  },
  {
   "cell_type": "code",
   "execution_count": 30,
   "id": "1b3dcae6-8f3c-4278-824f-55a12ddaebe3",
   "metadata": {},
   "outputs": [],
   "source": [
    "y_pred = forest.predict(x_test)"
   ]
  },
  {
   "cell_type": "code",
   "execution_count": 31,
   "id": "eb72541b-82fe-47e5-94c6-1276b4626b20",
   "metadata": {},
   "outputs": [
    {
     "data": {
      "text/plain": [
       "10.643892167364271"
      ]
     },
     "execution_count": 31,
     "metadata": {},
     "output_type": "execute_result"
    }
   ],
   "source": [
    "mse = mean_squared_error(y_test, y_pred)\n",
    "mse"
   ]
  },
  {
   "cell_type": "code",
   "execution_count": null,
   "id": "176e6c09-28f9-461f-bec6-83971868ef67",
   "metadata": {},
   "outputs": [],
   "source": []
  }
 ],
 "metadata": {
  "kernelspec": {
   "display_name": "Python 3 (ipykernel)",
   "language": "python",
   "name": "python3"
  },
  "language_info": {
   "codemirror_mode": {
    "name": "ipython",
    "version": 3
   },
   "file_extension": ".py",
   "mimetype": "text/x-python",
   "name": "python",
   "nbconvert_exporter": "python",
   "pygments_lexer": "ipython3",
   "version": "3.7.7"
  }
 },
 "nbformat": 4,
 "nbformat_minor": 5
}
